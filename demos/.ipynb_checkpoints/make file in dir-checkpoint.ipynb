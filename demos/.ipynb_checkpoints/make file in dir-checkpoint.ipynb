{
 "cells": [
  {
   "cell_type": "code",
   "execution_count": 1,
   "id": "3e0aac85-826a-4647-97c1-5840181200a5",
   "metadata": {},
   "outputs": [],
   "source": [
    "import os\n"
   ]
  },
  {
   "cell_type": "code",
   "execution_count": 3,
   "id": "4e1a8873-bf16-4d90-9c9b-fa3703e80137",
   "metadata": {},
   "outputs": [],
   "source": [
    "os.mkdir(\"demo15\")"
   ]
  },
  {
   "cell_type": "code",
   "execution_count": 6,
   "id": "9d8599fd-d7e4-42c1-97ab-d41b38a72a55",
   "metadata": {},
   "outputs": [],
   "source": [
    "for i in range(1,100):\n",
    "    foldername = \"demo\" + str(i)\n",
    "    os.mkdir(foldername)"
   ]
  },
  {
   "cell_type": "code",
   "execution_count": 19,
   "id": "34d406e9-e13b-413e-a96c-fd5691300a4b",
   "metadata": {},
   "outputs": [],
   "source": [
    "for i in range(10,16):    \n",
    "    foldername = \"demo\" + str(i)\n",
    "    filename = foldername + \".md\"\n",
    "    ding = foldername + '/' + filename\n",
    "    f = open(ding, \"x\")\n",
    "  "
   ]
  },
  {
   "cell_type": "code",
   "execution_count": null,
   "id": "dba9afa5-9981-4527-bb30-3b90aa4c0d3b",
   "metadata": {},
   "outputs": [],
   "source": []
  }
 ],
 "metadata": {
  "kernelspec": {
   "display_name": "Python 3 (ipykernel)",
   "language": "python",
   "name": "python3"
  },
  "language_info": {
   "codemirror_mode": {
    "name": "ipython",
    "version": 3
   },
   "file_extension": ".py",
   "mimetype": "text/x-python",
   "name": "python",
   "nbconvert_exporter": "python",
   "pygments_lexer": "ipython3",
   "version": "3.9.16"
  }
 },
 "nbformat": 4,
 "nbformat_minor": 5
}
