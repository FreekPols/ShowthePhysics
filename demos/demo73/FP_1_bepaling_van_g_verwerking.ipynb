{
 "cells": [
  {
   "cell_type": "markdown",
   "metadata": {
    "id": "Ovf98My4DSKs"
   },
   "source": [
    "# SdF3: Bepaling van g\n",
    "In deze demo bepalen we de valversnelling met de bijbehorende onzekerheid op basis van de valproef. In de demo wordt een ballon doorgeprikt en de valtijd gemeten met de akoestische chronometer in de Phyphox app. Na het invoeren van de gemeten hoogte en valtijd hoef je alleen alle cellen te 'runnen' en de valversnelling met bijbehorende onzekerheid wordt uitgerekend."
   ]
  },
  {
   "cell_type": "code",
   "execution_count": null,
   "metadata": {},
   "outputs": [],
   "source": [
    "#Import libraries\n",
    "import numpy as np"
   ]
  },
  {
   "cell_type": "code",
   "execution_count": null,
   "metadata": {
    "id": "5f3FP4hEDSKv"
   },
   "outputs": [],
   "source": [
    "#Invoeren van de metingen, H in cm, dt in s.\n",
    "H = /100 #De gemeten hoogte in cm\n",
    "u_H = /100 #De geschatte onzekerheid in c,\n",
    "dt = #De gemeten valtijd met de app Phyphox\n",
    "u_dt =  #De geschatte onzekerheid in de valtijd"
   ]
  },
  {
   "cell_type": "code",
   "execution_count": null,
   "metadata": {
    "id": "qs6mq2wuDSKx"
   },
   "outputs": [],
   "source": [
    "#Functie voor het bepalen van g\n",
    "def g(H,dt):\n",
    "    return 2*H/dt**2"
   ]
  },
  {
   "cell_type": "code",
   "execution_count": null,
   "metadata": {
    "id": "SfWxxNNwDSKy"
   },
   "outputs": [],
   "source": [
    "print('In dit experiment is g bepaald op: ', g(H,dt))"
   ]
  },
  {
   "cell_type": "code",
   "execution_count": null,
   "metadata": {
    "id": "JExx2-_pDSK0"
   },
   "outputs": [],
   "source": [
    "err_in_g = np.sqrt((u_H/H)**2+4*(u_dt/dt)**2)*g(H,dt)\n",
    "\n",
    "print('In dit experiment is g bepaald op: ', g(H,dt) , '+/-', err_in_g)"
   ]
  },
  {
   "cell_type": "code",
   "execution_count": null,
   "metadata": {
    "id": "Wc8C6UbhDSK1"
   },
   "outputs": [],
   "source": [
    "print('In dit experiment is g bepaald op: %.1f +/- %.1f m/s^2' %(g(H,dt), err_in_g))"
   ]
  },
  {
   "cell_type": "code",
   "execution_count": null,
   "metadata": {
    "id": "BXIPzMQaDSK1"
   },
   "outputs": [],
   "source": []
  },
  {
   "cell_type": "code",
   "execution_count": null,
   "metadata": {
    "id": "eVaGRmPbDSK2"
   },
   "outputs": [],
   "source": []
  },
  {
   "cell_type": "code",
   "execution_count": null,
   "metadata": {
    "id": "qTooC5lBDSK3"
   },
   "outputs": [],
   "source": []
  },
  {
   "cell_type": "code",
   "execution_count": null,
   "metadata": {
    "id": "dP-NihLLDSK3"
   },
   "outputs": [],
   "source": []
  },
  {
   "cell_type": "code",
   "execution_count": null,
   "metadata": {
    "id": "CE1C8wvPDSK4"
   },
   "outputs": [],
   "source": []
  }
 ],
 "metadata": {
  "colab": {
   "collapsed_sections": [],
   "name": "Demo valversnelling ballon.ipynb",
   "provenance": []
  },
  "kernelspec": {
   "display_name": "Python 3 (ipykernel)",
   "language": "python",
   "name": "python3"
  },
  "language_info": {
   "codemirror_mode": {
    "name": "ipython",
    "version": 3
   },
   "file_extension": ".py",
   "mimetype": "text/x-python",
   "name": "python",
   "nbconvert_exporter": "python",
   "pygments_lexer": "ipython3",
   "version": "3.9.15"
  }
 },
 "nbformat": 4,
 "nbformat_minor": 4
}
