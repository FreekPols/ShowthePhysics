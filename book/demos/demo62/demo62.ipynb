{
 "cells": [
  {
   "cell_type": "markdown",
   "metadata": {},
   "source": [
    "```{figure} ../../figures/confirmed.png \n",
    "---\n",
    "width: 35%\n",
    "align: right\n",
    "```\n",
    "\n",
    "# Speed of light in a liquid\n",
    "\n",
    "<table style=\"width: 100%; border-collapse: collapse; border: none;\">\n",
    "    <tr style=\"background-color: var(--background-color);\">  \n",
    "        <td style=\"text-align: left; padding: 3px; border: none; color: var(--text-color)\">Author:</td>\n",
    "        <td style=\"text-align: left; padding: 3px; border: none; color: var(--text-color)\">Norbert van Veen</td>\n",
    "    </tr>\n",
    "    <tr style=\"background-color: var(--background-color);\"> \n",
    "        <td style=\"text-align: left; padding: 3px; border: none; color: var(--text-color)\">Time:</td>\n",
    "        <td style=\"text-align: left; padding: 3px; border: none; color: var(--text-color)\">20-30 minutes</td>\n",
    "    </tr>\n",
    "    <tr style=\"background-color: var(--background-color);\"> \n",
    "        <td style=\"text-align: left; padding: 3px; border: none; color: var(--text-color)\">Age group:</td>\n",
    "        <td style=\"text-align: left; padding: 3px; border: none; color: var(--text-color)\">15-18</td>\n",
    "    </tr>\n",
    "</table><br>\n",
    "\n",
    "## Introduction\n",
    "Modern smartphones have a LiDAR sensor. This sensor allows you to measure the distance to objects. The LiDAR sensor is designed to measure only in air. As the speed of light in a transparent substance is slightly different than the speed of light in air, the measured distance is different. You can use this 'measurement error' to determine the speed of light in a transparent liquid.\n",
    "\n",
    "```{figure} demo62_figure1.png\n",
    "---\n",
    "width: 90%\n",
    "align: center\n",
    "name: demo62_fig1\n",
    "---\n",
    "*left:* LiDAR sensor on the phone. *right:* Screenshot of LiDAR app.\n",
    "```\n",
    "\n",
    "## Materials Needed\n",
    "- Smartphone with LiDAR sensor (iPhone 12 or higher) and a LiDAR app (phyphox) or a LiDAR pointer\n",
    "- Tripod\n",
    "- Pan\n",
    "- Liquid (e.g. water)\n",
    "- Tape measure\n",
    "\n",
    "## Preparation\n",
    "1. Place the phone in the tripod above the table. Ensure that the phone is perfectly horizontal. This can be checked with an app that indicates the tilt. \n",
    "2. Place a pan directly under the phone's LiDAR sensor (see {numref}`Figure {number}<demo62_fig1>` at the right). Make sure the LiDAR sensor is aimed directly at the center of the pan. \n",
    "3. Verify the distance from the phone to the bottom of the pan using a tape measure.\n",
    "\n",
    "## Procedure\n",
    "1. Provide some explanation about the operation of echo and sonar. Explain that this also works with invisible laser light, such as used in [speed limit enforcement](https://en.wikipedia.org/wiki/Lidar_traffic_enforcement).\n",
    "2. Explain the demonstration. Indicate that you will perform a distance measurement with a phone with and without water.\n",
    "3. Draw a diagram on the board, such as the drawing in {numref}`Figure {number}<demo62_fig2>`.\n",
    "4. Explain how the LiDAR sensor provides a distance measurement.\n",
    "5. Explain that you will pour water into the pan and then measure the distance again.\n",
    "6. Let the students predict what effect the water in the pan will have on the measurement.\n",
    "7. Carefully pour the water into the pan. Ensure that the water has come to rest. Use a water height of 5-8 cm.\n",
    "8. Perform the measurement and note the measured distance on the phone with (S4) and without water (S1). Note the height of the phone to the water surface (S2). Measure the depth of the water (S3).\n",
    "9. Calculate the speed of light in water, assuming speed of light in air is 299702547 m/s.\n",
    "10. The speed of light in water is determined with a single measurement. Ask students how they could obtain a more accurate value. (Students can repeat the demonstration with different water heights and use a more sophisticated way of determining the speed of light.)\n",
    "11. The following question can be asked to assess students' understanding: *If we were to pour the same amount of another transparent liquid with a higher density into the pan instead of water, what would the LiDAR sensor indicate?*\n",
    "    - *A shorter distance than with water.*\n",
    "    - *A longer distance than with water.*\n",
    "    - *The same distance as with water.*\n",
    "    \n",
    "```{figure} demo62_figure2.jpg\n",
    "---\n",
    "width: 50%\n",
    "align: center\n",
    "name: demo62_fig2\n",
    "---\n",
    "S1 is the actual distance between the phone and the bottom of the pan, S2 is the distance between the phone and the water surface. S3 is the water depth. S4 is the distance measured by the app.\n",
    "```\n",
    "\n",
    "## Physics Background\n",
    "LiDAR is a technology that determines the distance to an object or surface with laser pulses and works on the same principle as radar. The LiDAR sensor determines the distance to the object or surface by measuring the time elapsed between sending a pulse and receiving a reflection of that pulse: \n",
    "\n",
    "$$ s = \\frac{c \\Delta t}{2} $$\n",
    "\n",
    "with $s$ the distance in m, $c$ the speed of light in m/s and $\\Delta t$ the time between sending and receiving the pulse. The laser pulses will travel more slowly in water:\n",
    "\n",
    "$$ n_{a\\rightarrow w} = \\frac{c_{air}}{c_{water}} $$ \n",
    "\n",
    "This longer travel time results in an 'erroneous' measured distance (S4) of the distance from the LiDAR sensor to the bottom of the pan. The speed of light in water is calculated using the time that laser light stays in the water, see {cite}`Bewersdorff2022`:\n",
    "\n",
    "$$ t_{water} = t_{measured} - t_{air} $$\n",
    "\n",
    "$$ t_{water} = \\frac{S4}{c_{air}} - \\frac{S2}{c_{air}} $$\n",
    "\n",
    "$$ c_{water} = \\frac{S3}{t_{water}} $$ \n",
    "\n",
    "Depending on the measurements, we find deviations from the literature value for $c_{water}$ ($225*10^6$m/s) between 0.5 – 10%.\n",
    "\n",
    "```{tip}\n",
    "- Depending on the power of the LiDAR sensor, the water depth cannot be too great. There will be a power loss; maintain a depth between 5-8 cm.\n",
    "- Ensure the phone is securely fastened, as it may fall into the water.\n",
    "```\n",
    "## References\n",
    "```{bibliography}\n",
    ":filter: docname in docnames\n",
    "```"
   ]
  },
  {
   "cell_type": "code",
   "execution_count": 3,
   "metadata": {},
   "outputs": [
    {
     "name": "stdout",
     "output_type": "stream",
     "text": [
      "The speed of light in water is: 199801698.0 m/s\n"
     ]
    }
   ],
   "source": [
    "import numpy as np\n",
    "\n",
    "#determining the speed of light in water with a single measurement\n",
    "\n",
    "#constant\n",
    "c_air = 299702547 #m/s, speed of light in air\n",
    "\n",
    "#measurements in meters\n",
    "s1 = 0.5\n",
    "s2 = 0.3\n",
    "s3 = 0.2\n",
    "s4 = 0.6\n",
    "\n",
    "#calculations\n",
    "t_water = s4/c_air - s2/c_air\n",
    "c_water = s3/t_water\n",
    "\n",
    "#printing the solution to see clearly\n",
    "print(\"The speed of light in water is:\", c_water, \"m/s\")"
   ]
  },
  {
   "cell_type": "code",
   "execution_count": null,
   "metadata": {},
   "outputs": [],
   "source": [
    "import numpy as np\n",
    "\n",
    "#determining the speed of light in water with multiple measurements\n"
   ]
  },
  {
   "cell_type": "code",
   "execution_count": 15,
   "metadata": {},
   "outputs": [
    {
     "name": "stdout",
     "output_type": "stream",
     "text": [
      "[2.50000000e+08 2.40000000e+08 2.61038961e+08 2.48387097e+08\n",
      " 2.30973451e+08 1.32824427e+08 2.35294118e+08 2.30769231e+08\n",
      " 2.72727273e+08 2.50000000e+08 2.26415094e+08 2.27848101e+08\n",
      " 2.06756757e+08 2.41747573e+08]\n",
      "[ 2.32357403e+08 -7.80674157e-04]\n"
     ]
    },
    {
     "data": {
      "image/png": "[encoded data removed]",
      "text/plain": [
       "<Figure size 640x480 with 1 Axes>"
      ]
     },
     "metadata": {},
     "output_type": "display_data"
    },
    {
     "name": "stdout",
     "output_type": "stream",
     "text": [
      "$c_{water}$= 2.32 +/- 0.18 *$10^8$ m/s\n"
     ]
    }
   ],
   "source": [
    "# example with out measurements\n",
    "import numpy as np\n",
    "import matplotlib.pyplot as plt\n",
    "from scipy.optimize import curve_fit\n",
    "\n",
    "s_wo_water = np.array([30,30,60.2,60.2,60.2,60.2,30,30,40,40,40,40,65.1,66])*1e-2\n",
    "s_lidar = np.array([30.2,30.5,61.2,61.8,62.8,63.85,31.1,31.8,40.1,40.4,41.3,41.9,67.4,68])*1e-2\n",
    "s_wl_sensor = np.array([29,28,53.5,52.5,51.5,57.3,26,24,39,38,36,34,60,57.7])*1e-2\n",
    "c = 3E8\n",
    "\n",
    "water_depth = s_wo_water - s_wl_sensor\n",
    "t_water = (s_lidar-s_wl_sensor)/c\n",
    "c_water = water_depth/t_water\n",
    "\n",
    "print(c_water)\n",
    "\n",
    "def c_w(t,c_w,sys_err):\n",
    "    return c_w*t + sys_err\n",
    "\n",
    "var, cov = curve_fit(c_w,t_water,water_depth)\n",
    "\n",
    "print(var)\n",
    "\n",
    "x_test = np.linspace(min(t_water),max(t_water),1000)\n",
    "y_test = c_w(x_test,*var)\n",
    "\n",
    "#plot van waterdepth tegen t_water\n",
    "plt.figure()\n",
    "\n",
    "plt.plot(water_depth,t_water,'k.')\n",
    "plt.plot(y_test,x_test,'r--')\n",
    "\n",
    "plt.ylabel('$s_{depth}$ (m)')\n",
    "plt.xlabel('$t_{water}$')\n",
    "plt.grid()\n",
    "\n",
    "plt.show()\n",
    "\n",
    "print('$c_{water}$=',round(var[0]*1e-8,2),'+/-',round(np.sqrt(cov[0,0])*1e-8,2),'*$10^8$ m/s')"
   ]
  },
  {
   "cell_type": "code",
   "execution_count": null,
   "metadata": {},
   "outputs": [],
   "source": []
  }
 ],
 "metadata": {
  "kernelspec": {
   "display_name": "Python 3",
   "language": "python",
   "name": "python3"
  },
  "language_info": {
   "codemirror_mode": {
    "name": "ipython",
    "version": 3
   },
   "file_extension": ".py",
   "mimetype": "text/x-python",
   "name": "python",
   "nbconvert_exporter": "python",
   "pygments_lexer": "ipython3",
   "version": "3.9.16"
  }
 },
 "nbformat": 4,
 "nbformat_minor": 2
}
