{
 "cells": [
  {
   "cell_type": "markdown",
   "metadata": {},
   "source": [
    "# Boyle's law \n",
    "\n",
    "<span style=\"font-size: 25px; color: gray;\">How do you verify a physical law?</span>\n",
    "\n",
    "<table style=\"width: 100%; border-collapse: collapse; border: none;\">\n",
    "    <tr style=\"background-color: var(--background-color);\">  \n",
    "        <td style=\"text-align: left; padding: 3px; border: none; color: var(--text-color)\">Author:</td>\n",
    "        <td style=\"text-align: left; padding: 3px; border: none; color: var(--text-color)\">Norbert van Veen and Ed van den Berg</td>\n",
    "    </tr>\n",
    "    <tr style=\"background-color: var(--background-color);\"> \n",
    "        <td style=\"text-align: left; padding: 3px; border: none; color: var(--text-color)\">Time:</td>\n",
    "        <td style=\"text-align: left; padding: 3px; border: none; color: var(--text-color)\">10-20 minutes</td>\n",
    "    </tr>\n",
    "    <tr style=\"background-color: var(--background-color);\"> \n",
    "        <td style=\"text-align: left; padding: 3px; border: none; color: var(--text-color)\">Age group:</td>\n",
    "        <td style=\"text-align: left; padding: 3px; border: none; color: var(--text-color)\">14+</td>\n",
    "    </tr>\n",
    "    <tr style=\"background-color: var(--background-color);\"> \n",
    "        <td style=\"text-align: left; padding: 3px; border: none; color: var(--text-color)\">Concepts:</td>\n",
    "        <td style=\"text-align: left; padding: 3px; border: none; color: var(--text-color)\">Boyle's Law, volume, pressure</td>\n",
    "    </tr>\n",
    "    <tr style=\"background-color: var(--background-color);\"> \n",
    "        <td style=\"text-align: left; padding: 3px; border: none; color: var(--text-color)\">Skills:</td>\n",
    "        <td style=\"text-align: left; padding: 3px; border: none; color: var(--text-color)\">Designing experiment setup, identifying deviations, adjusting model</td>\n",
    "    </tr>\n",
    "</table>\n",
    "\n",
    "## Introduction\n",
    "Experimentally verifying a formula might seem trivial, but when you ask students in a concrete case - such as Boyle's Law - how to do it, problems arise. What do you want to measure? How do you measure it? When do you consider results to sufficiently match theory? With Boyle's law, results often don't align. Where does it go wrong? This demonstration lets students consider what goes wrong and how to adapt the model to compensate for incorrect assumptions.\n",
    "\n",
    "```{figure} demo37_figure1.jpg\n",
    "---\n",
    "width: 70%\n",
    "align: center\n",
    "name: demo37_fig1\n",
    "---\n",
    "The experimental setup, with a syringe and a pressure sensor.\n",
    "```\n",
    "\n",
    "## Equipment\n",
    "* Setup with a syringe\n",
    "* A pressure sensor\n",
    "* Measurement software (here we use Coach7)\n",
    "\n",
    "## Preparation\n",
    "Set up the apparatus as shown in {numref}`Figure {number} <demo37_fig1>`. Connect the pressure sensor to an interface and start the measurement program. Record both volume and pressure (at least eight different readings). \n",
    "\n",
    "\n",
    "```{tip}\n",
    "Below we have our measurements, you can run the code cell (and insert your measurements) by clicking above on the {fa}`rocket`.\n",
    "```\n",
    "\n",
    "Especially take measurements at smaller volumes (higher pressures) since this is where issues with residual volume manifest. \n",
    "\n",
    "## Procedure\n",
    "1.\tDraw a closed volume of gas on the board (circle or square). *What happens to the pressure if we decrease the volume?* Students will likely have little trouble with this question.\n",
    "2.\t*But how does it work exactly? Can we capture this process in some sort of formula? Boyle posited* $p \\cdot V = \\text{constant}$, *or for two situations:* $p_1 \\cdot V_1 = p_2 \\cdot V_2$. *What do you need to do to see if such a theoretical formula aligns with reality? How could you do that?* (very brief student discussion in pairs).\n",
    "3.\tNow the teacher shows the setup with a syringe with volume indication and a pressure sensor. *What should I do now to verify Boyle's Law?* Let students think for a moment and ask what they came up with.\n",
    "4.\tAfter a short discussion you collectively arrive at something like: set different volumes and measure the pressure to see if it matches the formula.\n",
    "5.\tPerform the measurements. "
   ]
  },
  {
   "cell_type": "code",
   "execution_count": 5,
   "metadata": {},
   "outputs": [
    {
     "ename": "ImportError",
     "evalue": "cannot import name '_c_internal_utils' from partially initialized module 'matplotlib' (most likely due to a circular import) (c:\\Users\\Freek\\miniconda3\\Lib\\site-packages\\matplotlib\\__init__.py)",
     "output_type": "error",
     "traceback": [
      "\u001b[1;31m---------------------------------------------------------------------------\u001b[0m",
      "\u001b[1;31mImportError\u001b[0m                               Traceback (most recent call last)",
      "Cell \u001b[1;32mIn[5], line 2\u001b[0m\n\u001b[0;32m      1\u001b[0m \u001b[38;5;28;01mimport\u001b[39;00m \u001b[38;5;21;01mnumpy\u001b[39;00m \u001b[38;5;28;01mas\u001b[39;00m \u001b[38;5;21;01mnp\u001b[39;00m\n\u001b[1;32m----> 2\u001b[0m \u001b[38;5;28;01mimport\u001b[39;00m \u001b[38;5;21;01mmatplotlib\u001b[39;00m\u001b[38;5;21;01m.\u001b[39;00m\u001b[38;5;21;01mpyplot\u001b[39;00m \u001b[38;5;28;01mas\u001b[39;00m \u001b[38;5;21;01mplt\u001b[39;00m\n\u001b[0;32m      3\u001b[0m \u001b[38;5;28;01mfrom\u001b[39;00m \u001b[38;5;21;01mscipy\u001b[39;00m\u001b[38;5;21;01m.\u001b[39;00m\u001b[38;5;21;01moptimize\u001b[39;00m \u001b[38;5;28;01mimport\u001b[39;00m curve_fit\n\u001b[0;32m      5\u001b[0m V \u001b[38;5;241m=\u001b[39m np\u001b[38;5;241m.\u001b[39marray([\u001b[38;5;241m18.0\u001b[39m, \u001b[38;5;241m16.0\u001b[39m, \u001b[38;5;241m14.0\u001b[39m, \u001b[38;5;241m12.0\u001b[39m, \u001b[38;5;241m10.0\u001b[39m, \u001b[38;5;241m9.0\u001b[39m, \u001b[38;5;241m8.0\u001b[39m, \u001b[38;5;241m7.0\u001b[39m, \u001b[38;5;241m6.0\u001b[39m, \u001b[38;5;241m5.0\u001b[39m, \u001b[38;5;241m4.0\u001b[39m, \u001b[38;5;241m3.0\u001b[39m])\n",
      "File \u001b[1;32mc:\\Users\\Freek\\miniconda3\\Lib\\site-packages\\matplotlib\\__init__.py:113\u001b[0m\n\u001b[0;32m    109\u001b[0m \u001b[38;5;28;01mfrom\u001b[39;00m \u001b[38;5;21;01mpackaging\u001b[39;00m\u001b[38;5;21;01m.\u001b[39;00m\u001b[38;5;21;01mversion\u001b[39;00m \u001b[38;5;28;01mimport\u001b[39;00m parse \u001b[38;5;28;01mas\u001b[39;00m parse_version\n\u001b[0;32m    111\u001b[0m \u001b[38;5;66;03m# cbook must import matplotlib only within function\u001b[39;00m\n\u001b[0;32m    112\u001b[0m \u001b[38;5;66;03m# definitions, so it is safe to import from it here.\u001b[39;00m\n\u001b[1;32m--> 113\u001b[0m \u001b[38;5;28;01mfrom\u001b[39;00m \u001b[38;5;21;01m.\u001b[39;00m \u001b[38;5;28;01mimport\u001b[39;00m _api, _version, cbook, _docstring, rcsetup\n\u001b[0;32m    114\u001b[0m \u001b[38;5;28;01mfrom\u001b[39;00m \u001b[38;5;21;01mmatplotlib\u001b[39;00m\u001b[38;5;21;01m.\u001b[39;00m\u001b[38;5;21;01mcbook\u001b[39;00m \u001b[38;5;28;01mimport\u001b[39;00m sanitize_sequence\n\u001b[0;32m    115\u001b[0m \u001b[38;5;28;01mfrom\u001b[39;00m \u001b[38;5;21;01mmatplotlib\u001b[39;00m\u001b[38;5;21;01m.\u001b[39;00m\u001b[38;5;21;01m_api\u001b[39;00m \u001b[38;5;28;01mimport\u001b[39;00m MatplotlibDeprecationWarning\n",
      "File \u001b[1;32mc:\\Users\\Freek\\miniconda3\\Lib\\site-packages\\matplotlib\\cbook\\__init__.py:30\u001b[0m\n\u001b[0;32m     27\u001b[0m \u001b[38;5;28;01mimport\u001b[39;00m \u001b[38;5;21;01mnumpy\u001b[39;00m \u001b[38;5;28;01mas\u001b[39;00m \u001b[38;5;21;01mnp\u001b[39;00m\n\u001b[0;32m     29\u001b[0m \u001b[38;5;28;01mimport\u001b[39;00m \u001b[38;5;21;01mmatplotlib\u001b[39;00m\n\u001b[1;32m---> 30\u001b[0m \u001b[38;5;28;01mfrom\u001b[39;00m \u001b[38;5;21;01mmatplotlib\u001b[39;00m \u001b[38;5;28;01mimport\u001b[39;00m _api, _c_internal_utils\n\u001b[0;32m     33\u001b[0m \u001b[38;5;129m@_api\u001b[39m\u001b[38;5;241m.\u001b[39mcaching_module_getattr\n\u001b[0;32m     34\u001b[0m \u001b[38;5;28;01mclass\u001b[39;00m \u001b[38;5;21;01m__getattr__\u001b[39;00m:\n\u001b[0;32m     35\u001b[0m     \u001b[38;5;66;03m# module-level deprecations\u001b[39;00m\n\u001b[0;32m     36\u001b[0m     MatplotlibDeprecationWarning \u001b[38;5;241m=\u001b[39m _api\u001b[38;5;241m.\u001b[39mdeprecated(\n\u001b[0;32m     37\u001b[0m         \u001b[38;5;124m\"\u001b[39m\u001b[38;5;124m3.6\u001b[39m\u001b[38;5;124m\"\u001b[39m, obj_type\u001b[38;5;241m=\u001b[39m\u001b[38;5;124m\"\u001b[39m\u001b[38;5;124m\"\u001b[39m,\n\u001b[0;32m     38\u001b[0m         alternative\u001b[38;5;241m=\u001b[39m\u001b[38;5;124m\"\u001b[39m\u001b[38;5;124mmatplotlib.MatplotlibDeprecationWarning\u001b[39m\u001b[38;5;124m\"\u001b[39m)(\n\u001b[0;32m     39\u001b[0m         \u001b[38;5;28mproperty\u001b[39m(\u001b[38;5;28;01mlambda\u001b[39;00m \u001b[38;5;28mself\u001b[39m: _api\u001b[38;5;241m.\u001b[39mdeprecation\u001b[38;5;241m.\u001b[39mMatplotlibDeprecationWarning))\n",
      "\u001b[1;31mImportError\u001b[0m: cannot import name '_c_internal_utils' from partially initialized module 'matplotlib' (most likely due to a circular import) (c:\\Users\\Freek\\miniconda3\\Lib\\site-packages\\matplotlib\\__init__.py)"
     ]
    }
   ],
   "source": [
    "import numpy as np\n",
    "import matplotlib.pyplot as plt\n",
    "from scipy.optimize import curve_fit\n",
    "\n",
    "V = np.array([18.0, 16.0, 14.0, 12.0, 10.0, 9.0, 8.0, 7.0, 6.0, 5.0, 4.0, 3.0])\n",
    "p = np.array([51.9, 59.7, 68.3, 79.7, 95.9, 108.1, 119.8, 136.2, 154.9, 186.5, 222.4, 275.1])\n"
   ]
  },
  {
   "cell_type": "markdown",
   "metadata": {},
   "source": [
    "6.  How would we know whether our results have verified Boyle's law? "
   ]
  },
  {
   "cell_type": "code",
   "execution_count": 3,
   "metadata": {},
   "outputs": [
    {
     "ename": "NameError",
     "evalue": "name 'p' is not defined",
     "output_type": "error",
     "traceback": [
      "\u001b[1;31m---------------------------------------------------------------------------\u001b[0m",
      "\u001b[1;31mNameError\u001b[0m                                 Traceback (most recent call last)",
      "Cell \u001b[1;32mIn[3], line 2\u001b[0m\n\u001b[0;32m      1\u001b[0m \u001b[38;5;66;03m# calculate p*V, which should be constant according to Boyle's law\u001b[39;00m\n\u001b[1;32m----> 2\u001b[0m \u001b[38;5;28mprint\u001b[39m(p\u001b[38;5;241m*\u001b[39mV)\n",
      "\u001b[1;31mNameError\u001b[0m: name 'p' is not defined"
     ]
    }
   ],
   "source": [
    "# calculate p*V, which should be constant according to Boyle's law\n",
    "print(p*V)"
   ]
  },
  {
   "cell_type": "markdown",
   "metadata": {},
   "source": [
    "7.  *The product $p\\cdot V$ is not constant, let's explore further and take a look at the graph:*"
   ]
  },
  {
   "cell_type": "code",
   "execution_count": 6,
   "metadata": {},
   "outputs": [
    {
     "ename": "NameError",
     "evalue": "name 'plt' is not defined",
     "output_type": "error",
     "traceback": [
      "\u001b[1;31m---------------------------------------------------------------------------\u001b[0m",
      "\u001b[1;31mNameError\u001b[0m                                 Traceback (most recent call last)",
      "Cell \u001b[1;32mIn[6], line 1\u001b[0m\n\u001b[1;32m----> 1\u001b[0m plt\u001b[38;5;241m.\u001b[39mfigure()\n\u001b[0;32m      2\u001b[0m plt\u001b[38;5;241m.\u001b[39mplot(V, p, \u001b[38;5;124m'\u001b[39m\u001b[38;5;124m+\u001b[39m\u001b[38;5;124m'\u001b[39m)\n\u001b[0;32m      3\u001b[0m plt\u001b[38;5;241m.\u001b[39mxlabel(\u001b[38;5;124m'\u001b[39m\u001b[38;5;124m$V$ (cm$^3$)\u001b[39m\u001b[38;5;124m'\u001b[39m)\n",
      "\u001b[1;31mNameError\u001b[0m: name 'plt' is not defined"
     ]
    }
   ],
   "source": [
    "plt.figure()\n",
    "plt.plot(V, p, '+')\n",
    "plt.xlabel('$V$ (cm$^3$)')\n",
    "plt.ylabel('$p$ (kPa)')\n",
    "plt.show()\n",
    "\n",
    "# Fit a linear function to the data\n",
    "def fitfunction(V,a):\n",
    "    return a*V\n",
    "\n",
    "val, cov = curve_fit(fitfunction, V, 1/p)\n",
    "\n",
    "x_test = np.linspace(0, 1.1*max(V),1000)\n",
    "y_test = fitfunction(x_test, val)\n",
    "\n",
    "# Plot the data and the fit\n",
    "plt.figure()\n",
    "plt.plot(V, 1/p, '+',label='measurements')\n",
    "plt.plot(x_test, y_test,'r--',label='fit')\n",
    "\n",
    "plt.xlabel('$V$ (cm$^3$)')\n",
    "plt.ylabel('$1/p$ (kPa$^{-1}$)')\n",
    "plt.legend\n",
    "plt.grid()\n",
    "plt.show()"
   ]
  },
  {
   "cell_type": "markdown",
   "metadata": {},
   "source": [
    "8.  *Although there seems to be an inverse proportional relationship, the fitline clearly tells us that something is going wrong...*\n",
    "9.\t*The measured result don't match, what could be the reason?* (brief student discussion in pairs).\n",
    "10.\t*How can we adjust our model $p \\cdot V = \\text{constant}$? Is that justifiable in terms of physics?* (add constant term to $V$, the residual volume).\n",
    "11.\t*How can we determine its size? Is there a clever way to transform our graph and extract it from there?* (from the deviation of the graph).\n",
    "12. Show again the graph of $\\frac{1}{p}$ against $V$. Ask the students whether it goes through the origin. Have them read the residual volume from the graph.\n",
    "13. Another way to find the residual volume is to adapt our model a bit: $p_1 \\cdot (V_1+\\Delta V)=constant.$"
   ]
  },
  {
   "cell_type": "code",
   "execution_count": null,
   "metadata": {},
   "outputs": [],
   "source": [
    "# Fit a linear function to the data\n",
    "def fitfunction2(V,a,b):\n",
    "    return a*(V+b)\n",
    "\n",
    "val2, cov2 = curve_fit(fitfunction2, V, 1/p)\n",
    "\n",
    "x_test2 = np.linspace(0, 1.1*max(V),1000)\n",
    "y_test2 = fitfunction2(x_test2, *val2)\n",
    "\n",
    "# Plot the data and the fit\n",
    "plt.figure()\n",
    "plt.plot(V, 1/p, '+', label='measurements')\n",
    "plt.plot(x_test, y_test,'r--', label='First model')\n",
    "plt.plot(x_test2, y_test2,'r--', label='Extended model')\n",
    "\n",
    "plt.xlabel('$V$ (cm$^3$)')\n",
    "plt.ylabel('$1/p$ (kPa$^{-1}$)')\n",
    "plt.legend\n",
    "plt.grid()\n",
    "plt.show()"
   ]
  },
  {
   "cell_type": "markdown",
   "metadata": {},
   "source": [
    "14. Discuss whether this model corresponds to the data. \n",
    "\n",
    "```{tip}\n",
    "* Clearly show the values of the pressure sensor on the digital board. \n",
    "* Show the students that the syringe is being depressed and explicitly mention the volume of the syringe.\n",
    "```\n",
    "\n",
    "## Physics background\n",
    "The pressure and volume of a closed quantity of ideal gas behave according to Boyle's Law. Due to the residual volume of the hose and the pressure sensor, the hyperbola of the measurements will deviate slightly from the volume that is read from the syringe. If we call the residual volume $\\Delta V$, then Boyle's Law can be written as:\n",
    "\n",
    "$$ P \\cdot (V + \\Delta V) = \\text{constant} ( = n \\cdot R \\cdot T)$$\n",
    "\n",
    "The ideal gas law assumes that the attraction between molecules is zero and that the molecules themselves are point particles that occupy no volume. Van der Waals took into account the attraction and volume of molecules:\n",
    "\n",
    "$$ (p + \\frac{n^2a}{V^2})(V-n \\cdot b) = n \\cdot R \\cdot T $$\n",
    "\n",
    "The pressure is corrected for attraction between molecules and also the volume of molecules is taken into account. These corrections become important at a higher density. The constant b is then roughly the volume of 1 mole, and the constant a depends on the attraction between molecules. These constants are determined empirically. For details, we refer to well-known textbooks such as {cite}`young2014`, chapter 17. \n",
    "\n",
    "## Follow-up\n",
    "What influence does a lower or higher temperature have on gas pressure measurements?\n",
    "\n",
    "The graphical model also shows the Van der Waals gas model. Plot this graph alongside Boyle's law and ask students to explain how the differences arise. At what pressures does Boyle's law deviate from Van der Waals' gas law?\n",
    "\n",
    "## References\n",
    "```{bibliography}\n",
    ":filter: docname in docnames\n",
    "```\n"
   ]
  },
  {
   "cell_type": "markdown",
   "metadata": {},
   "source": []
  }
 ],
 "metadata": {
  "kernelspec": {
   "display_name": "base",
   "language": "python",
   "name": "python3"
  },
  "language_info": {
   "codemirror_mode": {
    "name": "ipython",
    "version": 3
   },
   "file_extension": ".py",
   "mimetype": "text/x-python",
   "name": "python",
   "nbconvert_exporter": "python",
   "pygments_lexer": "ipython3",
   "version": "3.12.4"
  }
 },
 "nbformat": 4,
 "nbformat_minor": 2
}
