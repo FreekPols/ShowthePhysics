{
 "cells": [
  {
   "cell_type": "markdown",
   "metadata": {},
   "source": [
    "# A battle between two bottles\n",
    "\n",
    "<table style=\"width: 100%; border-collapse: collapse; border: none;\">\n",
    "    <tr style=\"background-color: var(--background-color);\">  \n",
    "        <td style=\"text-align: left; padding: 3px; border: none; color: var(--text-color)\">Author:</td>\n",
    "        <td style=\"text-align: left; padding: 3px; border: none; color: var(--text-color)\">Freek Pols</td>\n",
    "    </tr>\n",
    "    <tr style=\"background-color: var(--background-color);\"> \n",
    "        <td style=\"text-align: left; padding: 3px; border: none; color: var(--text-color)\">Time:</td>\n",
    "        <td style=\"text-align: left; padding: 3px; border: none; color: var(--text-color)\">10 minutes</td>\n",
    "    </tr>\n",
    "    <tr style=\"background-color: var(--background-color);\"> \n",
    "        <td style=\"text-align: left; padding: 3px; border: none; color: var(--text-color)\">Age group:</td>\n",
    "        <td style=\"text-align: left; padding: 3px; border: none; color: var(--text-color)\">14 - 18</td>\n",
    "    </tr>\n",
    "    <tr style=\"background-color: var(--background-color);\"> \n",
    "        <td style=\"text-align: left; padding: 3px; border: none; color: var(--text-color)\">Concepts:</td>\n",
    "        <td style=\"text-align: left; padding: 3px; border: none; color: var(--text-color)\">Bernoulli, fluid pressure</td>\n",
    "    </tr>\n",
    "</table>\n",
    "\n",
    "```{figure} demo41_figure2.jpg\n",
    "width: 90%\n",
    "align: center\n",
    "```\n",
    "\n",
    "## Introduction\n",
    "This demonstration was inspired by a question from the Dutch National Science Quiz: Which bottle empties faster, one with a long spout or one with a short spout? The demonstration is excellent for encouraging students to articulate their thoughts or to explain Bernoulli's law.\n",
    "\n",
    "## Equipment\n",
    "* Two sturdy PET bottles without bottoms; \n",
    "* One bottle has a short tube attached to the cap, the other a long tube; \n",
    "* A stand with two clamps; \n",
    "* A bucket or drip tray; \n",
    "* Water\n",
    "\n",
    "## Preparation\n",
    "Remove the bottoms of the PET bottles. Secure the tubes in the caps using a glue gun.\n",
    "Place the PET bottles in the stand as shown in the photo with the spouts facing downward.\n",
    "Ask a student to keep the tubes closed with their fingers to prevent the water from flowing out (see Figure 1). Fill both bottles to the same height with water.\n",
    "Position the bucket or drip tray beneath the bottles to keep the classroom dry!\n",
    "\n",
    "## Procedure\n",
    "Have students predict and explain which bottle they think will empty faster. Encourage them to explain their predictions thoroughly. Once enough ideas have been collected and no further ideas or explanations are forthcoming, have the student simultaneously release the tubes and let the bottles empty (see {numref}`Figure {number} <demo41_fig1>`*middle*).\n",
    "The bottle with the longer tube empties first (see {numref}`Figure {number} <demo41_fig1>`*right*).\n",
    "\n",
    "```{figure} demo41_figure1.png\n",
    "---\n",
    "width: 90%\n",
    "align: center\n",
    "name: demo41_fig1\n",
    "---\n",
    "<br>*left:* The setup just before conducting the experiment.<br>\n",
    "*middle:* Immediately after removing the fingers, the bottles start to empty.<br>\n",
    "*right:* As less water remains in the bottle, the differences become clearer.\n",
    "```\n",
    "\n",
    "## Physics background\n",
    "The greater the height difference between the water surface and the outlet, the greater the water pressure at the outlet. Greater pressure results in a higher flow rate. For upper grades, you can use the Bernoulli equation, comparing the top of the water column and the point where the water exits the bottle (both are part of the same streamline). It is expressed as: $\\rho g\\Delta h = 1/2 \\rho v^2$.\n",
    "\n",
    "The pressure above and below the water column is equal (open to the air).\n",
    "\n",
    "The effect of friction is less significant than the effect of the water height.\n",
    "\n",
    "For a public event or lower grades, the following reasoning can also be used:\n",
    "The more fluid above you, the greater the pressure. This can be felt, for example, when diving in a pool, which may cause your ears to pop. Greater pressure also means a greater outflow speed.\n",
    "\n",
    "## Follow-up\n",
    "It is possible to simulate the process of emptying the bottles. Below we have made this python simulation. Not that the flow rate $Q = Av = A_{tube}\\sqrt{2gh}$ and the difference in height is $\\Delta V = Q\\Delta t = A_{top}\\Delta h$. Note that the emptying of the tube at the end is not included in the simulation."
   ]
  },
  {
   "cell_type": "markdown",
   "metadata": {},
   "source": []
  },
  {
   "cell_type": "code",
   "execution_count": 9,
   "metadata": {},
   "outputs": [
    {
     "data": {
      "image/png": "[encoded data removed]",
      "text/plain": [
       "<Figure size 640x480 with 1 Axes>"
      ]
     },
     "metadata": {},
     "output_type": "display_data"
    }
   ],
   "source": [
    "import numpy as np\n",
    "import matplotlib.pyplot as plt\n",
    "\n",
    "g = 9.8 #m/s2\n",
    "A_top = 50 #cm2\n",
    "H_0 = 20 #cm\n",
    "\n",
    "A_tube = 1 #cm2\n",
    "L_tube = 5 #cm\n",
    "\n",
    "h = []\n",
    "h.append(H_0)\n",
    "t = []\n",
    "t.append(0)\n",
    "dt = 1 #s\n",
    "v = []\n",
    "i = 0\n",
    "\n",
    "while h[i]>0:\n",
    "    v.append(np.sqrt(2*g*(h[i]+L_tube)))\n",
    "    Q = A_tube * v[i] * dt\n",
    "    h.append(h[i] - Q / A_top * dt)\n",
    "    t.append(t[i] + dt)\n",
    "    i += 1\n",
    "\n",
    "# Plotting the simulation\n",
    "plt.figure( )\n",
    "plt.plot(t, h, 'k.')\n",
    "plt.xlabel('Time (s)')\n",
    "plt.ylabel('Height (cm)')\n",
    "plt.show()\n"
   ]
  },
  {
   "cell_type": "code",
   "execution_count": null,
   "metadata": {},
   "outputs": [],
   "source": []
  }
 ],
 "metadata": {
  "kernelspec": {
   "display_name": "base",
   "language": "python",
   "name": "python3"
  },
  "language_info": {
   "codemirror_mode": {
    "name": "ipython",
    "version": 3
   },
   "file_extension": ".py",
   "mimetype": "text/x-python",
   "name": "python",
   "nbconvert_exporter": "python",
   "pygments_lexer": "ipython3",
   "version": "3.9.17"
  }
 },
 "nbformat": 4,
 "nbformat_minor": 2
}
