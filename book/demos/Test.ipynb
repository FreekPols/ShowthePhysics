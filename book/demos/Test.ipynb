import numpy as np
import matplotlib.pyplot as plt

# Defining the data points and their values
x_coords = np.array([1, 2, 1, 2])
y_coords = np.array([1, 1, 2, 2])
z_values = np.array([1, 2, 4, 7])

# Creating a meshgrid from the unique x and y coordinates
x_unique = np.unique(x_coords)
y_unique = np.unique(y_coords)
x_mesh, y_mesh = np.meshgrid(x_unique, y_unique)

# Creating a matrix of z values
z_matrix = np.array([[z_values[0], z_values[2]],
                     [z_values[1], z_values[3]]])

# Plotting the heatmap
plt.imshow(z_matrix, extent=(x_unique.min(), x_unique.max(), y_unique.min(), y_unique.max()), 
           origin='lower', cmap='viridis', aspect='equal')
plt.colorbar(label='Value (z)')
plt.scatter(x_coords, y_coords, color='red', label='Data points')  # Marking the original data points
plt.legend()
plt.title('Heat Map of Given Locations and Values')
plt.xlabel('X coordinate')
plt.ylabel('Y coordinate')
plt.xticks(x_unique)
plt.yticks(y_unique)
plt.grid(True, which='both', color='white', linestyle='-', linewidth=2)
plt.show()
