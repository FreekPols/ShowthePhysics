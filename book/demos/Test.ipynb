{
 "cells": [
  {
   "cell_type": "markdown",
   "metadata": {},
   "source": [
    "## Testfile"
   ]
  },
  {
   "cell_type": "code",
   "execution_count": null,
   "metadata": {},
   "outputs": [],
   "source": [
    "import numpy as np\n",
    "import matplotlib.pyplot as plt\n",
    "\n",
    "# Defining the data points and their values\n",
    "x_coords = np.array([1, 2, 1, 2])\n",
    "y_coords = np.array([1, 1, 2, 4])\n",
    "z_values = np.array([1, 2, 4, 7])\n",
    "\n",
    "# Creating a meshgrid from the unique x and y coordinates\n",
    "x_unique = np.unique(x_coords)\n",
    "y_unique = np.unique(y_coords)\n",
    "x_mesh, y_mesh = np.meshgrid(x_unique, y_unique)\n",
    "\n",
    "# Creating a matrix of z values\n",
    "z_matrix = np.array([[z_values[0], z_values[2]],\n",
    "                     [z_values[1], z_values[3]]])\n",
    "\n",
    "# Plotting the heatmap\n",
    "plt.imshow(z_matrix, extent=(x_unique.min(), x_unique.max(), y_unique.min(), y_unique.max()), \n",
    "           origin='lower', cmap='viridis', aspect='equal')\n",
    "plt.colorbar(label='Value (z)')\n",
    "plt.scatter(x_coords, y_coords, color='red', label='Data points')  # Marking the original data points\n",
    "plt.legend()\n",
    "plt.title('Heat Map of Given Locations and Values')\n",
    "plt.xlabel('X coordinate')\n",
    "plt.ylabel('Y coordinate')\n",
    "plt.xticks(x_unique)\n",
    "plt.yticks(y_unique)\n",
    "plt.grid(True, which='both', color='white', linestyle='-', linewidth=2)\n",
    "plt.show()\n"
   ]
  }
 ],
 "metadata": {
  "language_info": {
   "name": "python"
  }
 },
 "nbformat": 4,
 "nbformat_minor": 2
}
