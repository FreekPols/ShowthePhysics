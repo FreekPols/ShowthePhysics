{
 "cells": [
  {
   "cell_type": "markdown",
   "metadata": {},
   "source": [
    "# About this book\n",
    "\n",
    "This book originated in the collaboration between physics teachers and physics teacher trainers, united in the <a href=\"https://nvon.nl\" target=\"_blank\">Dutch Association for Science Education(NVON)</a>. The three Dutch volumes of Show*de*Fysica cover over a 200 demonstrations for secondary school physics, along with additional text on the pedagogy of physics demonstrations. Each demonstration has been tested by various secondary school physics teachers and their technicians, ensuring that they have value in their description and are accessible to teachers.\n",
    "\n",
    "```{figure} Figures/metalballs.jpeg\n",
    "---\n",
    "name: fig:metalballs\n",
    "width: 60%\n",
    "---\n",
    "The cooling of [two heated metal balls](../demos/demo75/demo75.md). Which one cools down fastest, the big or the small ball?\n",
    "```\n",
    "\n",
    "Are our demonstrations original? Don't expect them to be so. Most demonstrations were inspired by earlier versions of the experiments - where possible referenced to earlier descriptions - and edited by the [authors](Authors) to fit the didactic categories of this book. Moreover, we included for several demonstration additional questions to check students' understanding! \n",
    "\n",
    "```{tip}\n",
    ":class: dropdown\n",
    "This book is published under the CC-BY-NC, what means that you are allowed to use and adapt the materials for non-commercial use and under the condition that you refer to the original work. \n",
    "```\n",
    "\n",
    "## How to use the book\n",
    "Demonstrations are fantastic. They offer so many wonderful possibilities to show the beauty of physics and amaze pupils, that we really should do at least one in every physics class. That may not always work out, but the objection \"which demo then?\" no longer applies. After all, this book provides 99 examples!\n",
    "\n",
    "Surely you can read this book from cover to cover, but that was not our intention. Our main idea was to help provide teachers with ample demonstrations that could be readily used in the classroom, thereby helping students to grasp physics. Therefore, we choose and developed the demonstrations that really add value to the physics lessons. Hence, rather than reading the whole book, you can use the search function of the book and look for the topic that you are teaching next week to find a demonstration that suits well.\n",
    "\n",
    "```{tip}\n",
    ":class: dropdown\n",
    "The different chapters on the pedagogy of physics demonstrations provide an excellent start as well!\n",
    "```\n",
    "\n",
    "```{figure} Figures/soapbells.jpg\n",
    "---\n",
    "name: fig:soapbells\n",
    "width: 60%\n",
    "---\n",
    "Why do soap bells behave strangely in the surrounding of a [vanderGraaf](../demos/demo10/demo10.md) generator?\n",
    "```\n",
    "\n",
    "```{Warning}\n",
    "We have carefully conceived, developed, described and tested each of the experiments. Moreover, we specified safety issues where necessary. However, we are not responsible for whatever accidents, or injuries when doing a demonstration described in this book. We want to emphasize as well the requirement to test a demonstration before doing it with public. \n",
    "```\n",
    "\n",
    "## Python\n",
    "In this online book you will find Python coding cells that you can run in your browser without the need for any additional materials. Our colleagues from <a href=\"http://teachbooks.tudelft.nl/\" target=\"_blank\">Teachbooks</a> contributed to this feature.\n",
    "\n",
    "Even on this page we have made a code-cell that you can run and play with. The start of running a code-cell is always to click the {fa}`rocket` at the top of the page. After loading the packages (![](Figures/pythonready.JPG)) you are good to go. Go to the cell and click run!"
   ]
  },
  {
   "cell_type": "code",
   "execution_count": null,
   "metadata": {},
   "outputs": [],
   "source": [
    "print('Hello World')"
   ]
  },
  {
   "cell_type": "markdown",
   "metadata": {},
   "source": [
    "Some contain more advanced code, we try to keep it as simple as possible. Below we have an executable code with the output a plot. You can run the cell, see the output, and alter anything inside to see how it functions..."
   ]
  },
  {
   "cell_type": "code",
   "execution_count": null,
   "metadata": {},
   "outputs": [],
   "source": [
    "# import libraries\n",
    "import numpy as np\n",
    "import matplotlib.pyplot as plt\n",
    "\n",
    "# some data\n",
    "x = np.array([1, 2, 3, 4, 5])   # some values for x\n",
    "y = 3.14*x**2                   # some values for y\n",
    "\n",
    "# create graph\n",
    "plt.figure()\n",
    "plt.plot(x, y, 'k.')            # plot data points as black (k) dots (.)\n",
    "plt.plot(x,y, 'r--')            # plot data points as red (r) dottedline (--)\n",
    "\n",
    "plt.xlabel('$x$[m]')            # add labels\n",
    "plt.ylabel('$y$[s]')\n",
    "\n",
    "plt.grid()                      # add grid           \n",
    "plt.savefig('plot.png')         # save plot\n",
    "plt.show()                      # show plot\n"
   ]
  },
  {
   "cell_type": "markdown",
   "metadata": {},
   "source": [
    "Do you need more explanation? See our chapter on [Python](./Python%20summary.ipynb)."
   ]
  },
  {
   "cell_type": "markdown",
   "metadata": {},
   "source": [
    "## Your contribution?\n",
    "An absolute advantages of Jupyter Online Books is the ability to have readers contribute. If you see a typo, if something is not clear, or anything needs to be adjusted, click the <i class=\"fa-brands fa-github\"></i> button at the top of the screen and open an issue by clicking on the {fa}`lightbulb` button. (You need to have a github account though). "
   ]
  },
  {
   "cell_type": "markdown",
   "metadata": {},
   "source": [
    "## Licences\n",
    "\n",
    "This book is licensed under a Creative Commons Attribution 4.0 International License (CC BY), except the following.\n",
    "\n",
    "CC BY conditions are not applicable to the figures in the [Foreword](./Foreword.md) and [Authors](./Authors.md) chapter."
   ]
  },
  {
   "cell_type": "markdown",
   "metadata": {},
   "source": []
  }
 ],
 "metadata": {
  "language_info": {
   "name": "python"
  }
 },
 "nbformat": 4,
 "nbformat_minor": 2
}
