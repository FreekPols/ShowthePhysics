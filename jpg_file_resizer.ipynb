{
 "cells": [
  {
   "cell_type": "code",
   "execution_count": 1,
   "id": "6ba5cf6a-f4d6-4f25-8e01-1e27ddd6d14a",
   "metadata": {},
   "outputs": [
    {
     "name": "stdout",
     "output_type": "stream",
     "text": [
      "Compressing: book/Introduction/Figures\\IMG_1723.JPG\n",
      "Compressing: book/Introduction/Figures\\IMG_1724.JPG\n",
      "Compressing: book/Introduction/Figures\\IMG_1728.JPG\n",
      "Compressing: book/Introduction/Figures\\IMG_1729.JPG\n",
      "Compressing: book/Introduction/Figures\\IMG_1730.JPG\n",
      "Compressing: book/Introduction/Figures\\IMG_1739.JPG\n",
      "Compressing: book/Introduction/Figures\\IMG_1744.JPG\n",
      "Compressing: book/Introduction/Figures\\IMG_1745.JPG\n",
      "Compressing: book/Introduction/Figures\\IMG_1746.JPG\n",
      "Compressing: book/Introduction/Figures\\IMG_1747.JPG\n"
     ]
    }
   ],
   "source": [
    "from PIL import Image\n",
    "import os\n",
    "\n",
    "def compress_image(file_path, output_quality=60):\n",
    "    \"\"\" Compress the image by changing its quality. \"\"\"\n",
    "    picture = Image.open(file_path)\n",
    "    # You can also resize the image if needed using picture.resize()\n",
    "    picture.save(file_path, \"JPEG\", optimize=True, quality=output_quality)\n",
    "\n",
    "def find_and_compress_images(directory, max_size=1.3*1024*1024):\n",
    "    \"\"\" Find all jpg files exceeding max_size and compress them. \"\"\"\n",
    "    for root, dirs, files in os.walk(directory):\n",
    "        for file in files:\n",
    "            if file.lower().endswith(\".jpg\"):\n",
    "                full_path = os.path.join(root, file)\n",
    "                if os.path.getsize(full_path) > max_size:\n",
    "                    print(f\"Compressing: {full_path}\")\n",
    "                    compress_image(full_path)\n",
    "\n",
    "# Specify the root directory to start from\n",
    "root_directory = 'book/Introduction/Figures'\n",
    "find_and_compress_images(root_directory)"
   ]
  },
  {
   "cell_type": "code",
   "execution_count": null,
   "id": "9ec51644-1c4a-4a46-b10d-9a07d80418b5",
   "metadata": {},
   "outputs": [],
   "source": []
  }
 ],
 "metadata": {
  "kernelspec": {
   "display_name": "Python 3 (ipykernel)",
   "language": "python",
   "name": "python3"
  },
  "language_info": {
   "codemirror_mode": {
    "name": "ipython",
    "version": 3
   },
   "file_extension": ".py",
   "mimetype": "text/x-python",
   "name": "python",
   "nbconvert_exporter": "python",
   "pygments_lexer": "ipython3",
   "version": "3.12.4"
  }
 },
 "nbformat": 4,
 "nbformat_minor": 5
}
