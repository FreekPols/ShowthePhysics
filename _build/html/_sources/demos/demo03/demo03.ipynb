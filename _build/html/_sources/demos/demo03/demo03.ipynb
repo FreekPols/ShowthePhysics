{
 "cells": [
  {
   "cell_type": "markdown",
   "id": "0cc6ac9b",
   "metadata": {},
   "source": [
    "# Light in darkness\n",
    "\n",
    "Author: Freek Pols\\\n",
    "Time: 15-20 minuten\\\n",
    "Age group: 12-18\\\n",
    "Concepts: Light, light matter interaction\n",
    "\n",
    "## Introduction\n",
    "What is light? Why is it dark at night while there are so many stars? Why do we see objects (not)? These are relevant questions that we ask ourselves. But these are as well interesting questions from a physics perspective. This demo, adapted from Demircioglu & Cin (2019), lets students consider answers to these questions in an inquisitive way."
   ]
  },
  {
   "cell_type": "code",
   "execution_count": 1,
   "id": "60ef77dd",
   "metadata": {
    "tags": [
     "remove-input"
    ]
   },
   "outputs": [
    {
     "data": {
      "image/jpeg": "[encoded data removed]",
      "text/html": [
       "\n",
       "        <iframe\n",
       "            width=\"600\"\n",
       "            height=\"300\"\n",
       "            src=\"https://www.youtube.com/embed/YDBr1Lof_mI?align=center\"\n",
       "            frameborder=\"0\"\n",
       "            allowfullscreen\n",
       "            \n",
       "        ></iframe>\n",
       "        "
      ],
      "text/plain": [
       "<IPython.lib.display.YouTubeVideo at 0x1bbbc312d00>"
      ]
     },
     "execution_count": 1,
     "metadata": {},
     "output_type": "execute_result"
    }
   ],
   "source": [
    "from IPython.display import YouTubeVideo\n",
    "VideoWidth=600\n",
    "YouTubeVideo(\"YDBr1Lof_mI\", width=VideoWidth, align='center')"
   ]
  },
  {
   "cell_type": "markdown",
   "id": "fbd77c34",
   "metadata": {},
   "source": [
    "    \n",
    "## Equipment\n",
    "* Laser\n",
    "* vacuumpump & bell\n",
    "* darkened room\n",
    "* lightning matches\n",
    "* candle\n",
    "\n",
    "## Preparation\n",
    "Light the candle and put it under the vacuumbell so that smoke is trapped beneath it. Make sure there is enough smoke! The smoke will make the laserbeam visible, see figure 1. Darken the classroom but leave the lights on.\n",
    "\n",
    "![figure](dm03_figure1.jpg) <center><i> Fig.1 - The demo is easy to set up.</i></center>\n",
    "\n",
    "## Procedure\n",
    "Start the demo with asking the broad question why it is dark at night even with so many stars. If there are countless stars, would the sky not be bright at night as well? Explain that the vacuumbell can be used as a model for the universe: there are hardly particles in space. Moreover, we can be regarded as a star.\n",
    " \n",
    "Turn the laser on and ask students what they observe. Is the laserbeam visible? Everywhere? Outside and inside the bell? Now, turn of the lights. What can we see now? Is the laserbeam visible in and outside the bell? Is there any difference in light intensity? If so, what is a possible reason (hypothesis)? How can we test this hypothesis?\n",
    "\n",
    "![figure](dm03_figure2.jpg) <center><i> Fig.2 - The laserbeam is well visible, but the entire bell is illuminated as well!</i></center>\n",
    "\n",
    "Ask students to write down their observation when you turn on the vacuumpump. If the bell has been sufficiently vacuumed, you can turn off the pump and ask whether there is light visible in the bell jar. Is there still light anyway? Why do we see things, and how do we relate this demo, and what happens, with being dark at night?\n",
    "\n",
    "![figure2](dm03_figure3.jpg) <center><i> Fig.3 - When the bell got more and more vcuum, the lightintensity of the laserbeam is less until it is not visible at all anymore.</i></center>\n",
    "\n",
    "## Physics background\n",
    "To see objects, there needs to be a light-matter interaction. Because the universe is almost entirely empty, these interactions are hardly there. The light that we see at night are directly coming from the stars. Many lightbeams 'miss' the earth and will never be observed. There are some exemptions of the light-matter interactions. The moon does not produce light itself but reflects the light coming from the sun. \n",
    "\n",
    "## References\n",
    "Demircioglu, S., Cin, M.O., 2019, An argumentation-based demonstration experiment in teaching the light–matter interaction, Physics Education"
   ]
  }
 ],
 "metadata": {
  "jupytext": {
   "text_representation": {
    "extension": ".md",
    "format_name": "myst",
    "format_version": 0.13,
    "jupytext_version": "1.10.3"
   }
  },
  "kernelspec": {
   "display_name": "Python 3 (ipykernel)",
   "language": "python",
   "name": "python3"
  },
  "language_info": {
   "codemirror_mode": {
    "name": "ipython",
    "version": 3
   },
   "file_extension": ".py",
   "mimetype": "text/x-python",
   "name": "python",
   "nbconvert_exporter": "python",
   "pygments_lexer": "ipython3",
   "version": "3.9.16"
  },
  "source_map": [
   12,
   24,
   29
  ]
 },
 "nbformat": 4,
 "nbformat_minor": 5
}